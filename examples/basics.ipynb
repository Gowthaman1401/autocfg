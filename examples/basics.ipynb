{
 "cells": [
  {
   "cell_type": "markdown",
   "metadata": {},
   "source": [
    "# Autocfg Basics\n",
    "\n",
    "This notebook will demonstrate the basic functionalities of autocfg"
   ]
  },
  {
   "cell_type": "code",
   "execution_count": 1,
   "metadata": {},
   "outputs": [],
   "source": [
    "from autocfg import dataclass, field  # drop-in replacement of dataclass decorator out of dataclasses"
   ]
  },
  {
   "cell_type": "markdown",
   "metadata": {},
   "source": [
    "### dataclass decorator\n",
    "\n",
    "The usage of dataclass decorator shouldn't be anything different than the native `dataclasses` introduced in python 3.7. In python 3.6 we use the backported `dataclasses` so it minimum requirement of `autocfg` package is python 3.6\n",
    "\n",
    "Let's create some random configurations you will use in an experiment."
   ]
  },
  {
   "cell_type": "code",
   "execution_count": 2,
   "metadata": {},
   "outputs": [],
   "source": [
    "# first is the common training config\n",
    "@dataclass\n",
    "class TrainConfig:\n",
    "  batch_size : int = 32\n",
    "  learning_rate : float = 1e-3\n",
    "  weight_decay : float = 1e-5"
   ]
  },
  {
   "cell_type": "markdown",
   "metadata": {},
   "source": [
    "followed by a nested config"
   ]
  },
  {
   "cell_type": "code",
   "execution_count": 3,
   "metadata": {},
   "outputs": [],
   "source": [
    "# supports nested config\n",
    "@dataclass\n",
    "class MyExp:\n",
    "  train : TrainConfig = field(default_factory=TrainConfig)\n",
    "  num_class : int = 1000\n",
    "  depth : int = 50"
   ]
  },
  {
   "cell_type": "markdown",
   "metadata": {},
   "source": [
    "Note that it's very important to keep nested config's default a `field` with `default_factory` rather than a default value `TrainConfig()`, since the default values is mutable and can be overwriten inaccidentally."
   ]
  },
  {
   "cell_type": "markdown",
   "metadata": {},
   "source": [
    "### Initialize, and direct access"
   ]
  },
  {
   "cell_type": "code",
   "execution_count": 4,
   "metadata": {},
   "outputs": [
    {
     "name": "stdout",
     "output_type": "stream",
     "text": [
      "train: TrainConfig(batch_size=32, learning_rate=0.001, weight_decay=1e-05)\n",
      "train1: TrainConfig(batch_size=128, learning_rate=0.001, weight_decay=1e-05)\n"
     ]
    }
   ],
   "source": [
    "# we can initialize the plain configs as-is\n",
    "train = TrainConfig()\n",
    "train1 = TrainConfig(batch_size=128)\n",
    "print('train:', train)\n",
    "print('train1:', train1)"
   ]
  },
  {
   "cell_type": "code",
   "execution_count": 5,
   "metadata": {},
   "outputs": [
    {
     "name": "stdout",
     "output_type": "stream",
     "text": [
      "exp with default train: MyExp(train=TrainConfig(batch_size=32, learning_rate=0.001, weight_decay=1e-05), num_class=1000, depth=18)\n"
     ]
    }
   ],
   "source": [
    "# the exp config, a nested class\n",
    "exp = MyExp(depth=18, train=TrainConfig())\n",
    "print('exp with default train:', exp)"
   ]
  },
  {
   "cell_type": "code",
   "execution_count": 6,
   "metadata": {},
   "outputs": [
    {
     "name": "stdout",
     "output_type": "stream",
     "text": [
      "dict: {'train': {'batch_size': 32, 'learning_rate': 0.001, 'weight_decay': 1e-05}, 'num_class': 1000, 'depth': 18}\n"
     ]
    }
   ],
   "source": [
    "# config can be viewed as normal dict\n",
    "print('dict:', exp.asdict())"
   ]
  },
  {
   "cell_type": "code",
   "execution_count": 7,
   "metadata": {},
   "outputs": [
    {
     "name": "stdout",
     "output_type": "stream",
     "text": [
      "updated exp: MyExp(train=TrainConfig(batch_size=32, learning_rate=1.5, weight_decay=1e-05), num_class=10, depth=18)\n"
     ]
    }
   ],
   "source": [
    "# To modify the values, attributes can be directly accessed\n",
    "exp.num_class = 10\n",
    "exp.train.learning_rate = 1.5\n",
    "print('updated exp:', exp)"
   ]
  },
  {
   "cell_type": "markdown",
   "metadata": {},
   "source": [
    "### Serialization\n",
    "\n",
    "`autocfg` prefers `yaml` as the human-readable format for serialization, which can be viewed and modified pretty effortlessly."
   ]
  },
  {
   "cell_type": "code",
   "execution_count": 8,
   "metadata": {},
   "outputs": [
    {
     "name": "stdout",
     "output_type": "stream",
     "text": [
      "# MyExp\r\n",
      "depth: 18\r\n",
      "num_class: 10\r\n",
      "train:\r\n",
      "  batch_size: 32\r\n",
      "  learning_rate: 1.5\r\n",
      "  weight_decay: 1.0e-05\r\n"
     ]
    }
   ],
   "source": [
    "# save to 'exp.yaml'\n",
    "exp.save('exp.yaml')\n",
    "!cat exp.yaml"
   ]
  },
  {
   "cell_type": "code",
   "execution_count": 9,
   "metadata": {},
   "outputs": [],
   "source": [
    "# directly load from file is also straight-forward\n",
    "exp1 = MyExp.load('exp.yaml')\n",
    "assert exp == exp1"
   ]
  },
  {
   "cell_type": "code",
   "execution_count": 10,
   "metadata": {},
   "outputs": [
    {
     "name": "stdout",
     "output_type": "stream",
     "text": [
      "MyExp(train=TrainConfig(batch_size=32, learning_rate=0.001, weight_decay=1e-05), num_class=1000, depth=1000)\n"
     ]
    }
   ],
   "source": [
    "# a python file-like object can be handy in case in-memory operation is preferred\n",
    "import io\n",
    "f = io.StringIO('depth: 1000')\n",
    "exp2 = MyExp.load(f)\n",
    "print(exp2)\n",
    "assert exp2.depth == 1000"
   ]
  },
  {
   "cell_type": "markdown",
   "metadata": {},
   "source": [
    "### Update config\n",
    "Though configs can be updated by direct access and assignment, we also need a faster `update` method similar to nested dict"
   ]
  },
  {
   "cell_type": "code",
   "execution_count": 11,
   "metadata": {},
   "outputs": [
    {
     "name": "stdout",
     "output_type": "stream",
     "text": [
      "MyExp(train=TrainConfig(batch_size=32, learning_rate=1.5, weight_decay=1e-05), num_class=10, depth=18)\n"
     ]
    }
   ],
   "source": [
    "exp2.update(exp1)\n",
    "print(exp2)\n",
    "assert exp2 == exp1"
   ]
  },
  {
   "cell_type": "code",
   "execution_count": 12,
   "metadata": {},
   "outputs": [
    {
     "name": "stdout",
     "output_type": "stream",
     "text": [
      "MyExp(train=TrainConfig(batch_size=32, learning_rate=1.5, weight_decay=1e-05), num_class=10, depth=18)\n"
     ]
    }
   ],
   "source": [
    "# update support files, file-like objects where configs has been dumped\n",
    "exp2 = MyExp(num_class=200)\n",
    "exp2.update('exp.yaml')\n",
    "print(exp2)\n",
    "assert exp2 == exp"
   ]
  },
  {
   "cell_type": "code",
   "execution_count": 13,
   "metadata": {},
   "outputs": [
    {
     "name": "stdout",
     "output_type": "stream",
     "text": [
      "MyExp(train=TrainConfig(batch_size=32, learning_rate=1.0, weight_decay=1e-05), num_class=10, depth=18)\n"
     ]
    }
   ],
   "source": [
    "# update with a dict\n",
    "exp2.update({'num_class': 10, 'train': {'learning_rate': 1.0}})\n",
    "print(exp2)\n",
    "assert exp2.num_class == 10 and exp2.train.learning_rate == 1.0"
   ]
  },
  {
   "cell_type": "markdown",
   "metadata": {},
   "source": [
    "### Argparse integration\n",
    "\n",
    "It's always time consuming if you need to manually add a argparse parser to handle command line inputs, `autocfg` handles the issue out of the box, saving tons of efforts for you.\n",
    "\n",
    "Since jupyter notebook doesnot play with `sys.argv` well, we will use list inputs to simulate command line inputs."
   ]
  },
  {
   "cell_type": "code",
   "execution_count": 14,
   "metadata": {},
   "outputs": [
    {
     "name": "stdout",
     "output_type": "stream",
     "text": [
      "usage: MyExp's auto argument parser [-h] [--train.batch-size TRAIN.BATCH_SIZE]\n",
      "                                    [--train.learning-rate TRAIN.LEARNING_RATE]\n",
      "                                    [--train.weight-decay TRAIN.WEIGHT_DECAY]\n",
      "                                    [--num-class NUM_CLASS] [--depth DEPTH]\n",
      "\n",
      "optional arguments:\n",
      "  -h, --help            show this help message and exit\n",
      "  --train.batch-size TRAIN.BATCH_SIZE\n",
      "                        batch_size (default: 32)\n",
      "  --train.learning-rate TRAIN.LEARNING_RATE\n",
      "                        learning_rate (default: 0.001)\n",
      "  --train.weight-decay TRAIN.WEIGHT_DECAY\n",
      "                        weight_decay (default: 1e-05)\n",
      "  --num-class NUM_CLASS\n",
      "                        num_class (default: 1000)\n",
      "  --depth DEPTH         depth (default: 50)\n"
     ]
    }
   ],
   "source": [
    "# auto generated helper\n",
    "try:\n",
    "    new_exp = MyExp.parse_args(['-h'])\n",
    "except SystemExit as e:\n",
    "    pass"
   ]
  },
  {
   "cell_type": "markdown",
   "metadata": {},
   "source": [
    "The default values are also available in the console output"
   ]
  },
  {
   "cell_type": "code",
   "execution_count": 15,
   "metadata": {},
   "outputs": [
    {
     "name": "stdout",
     "output_type": "stream",
     "text": [
      "MyExp(train=TrainConfig(batch_size=32, learning_rate=0.001, weight_decay=1e-05), num_class=1000, depth=100)\n"
     ]
    }
   ],
   "source": [
    "# normal overriding\n",
    "new_exp = MyExp.parse_args(['--depth', '100'])\n",
    "print(new_exp)"
   ]
  },
  {
   "cell_type": "code",
   "execution_count": 16,
   "metadata": {},
   "outputs": [
    {
     "name": "stdout",
     "output_type": "stream",
     "text": [
      "MyExp(train=TrainConfig(batch_size=32, learning_rate=0.001, weight_decay=100.0), num_class=1000, depth=50)\n"
     ]
    }
   ],
   "source": [
    "# nested overriding\n",
    "new_exp = MyExp.parse_args(['--train.weight-decay', '100.0'])\n",
    "print(new_exp)"
   ]
  },
  {
   "cell_type": "markdown",
   "metadata": {},
   "source": [
    "### Diff configurations\n",
    "\n",
    "Knowing what's been modified is an important feature of configuration systems, `autocfg` provide a `diff` function to evaluate the changes"
   ]
  },
  {
   "cell_type": "code",
   "execution_count": 17,
   "metadata": {},
   "outputs": [
    {
     "name": "stdout",
     "output_type": "stream",
     "text": [
      "['root.depth           50 != 18',\n",
      " 'root.train.weight_decay 100.0 != 1e-05',\n",
      " 'root.train.learning_rate 0.001 != 1.0',\n",
      " 'root.num_class       1000 != 10']\n"
     ]
    }
   ],
   "source": [
    "from pprint import pprint\n",
    "pprint(new_exp.diff(exp2))"
   ]
  },
  {
   "cell_type": "code",
   "execution_count": null,
   "metadata": {},
   "outputs": [],
   "source": []
  }
 ],
 "metadata": {
  "kernelspec": {
   "display_name": "Python 3",
   "language": "python",
   "name": "python3"
  },
  "language_info": {
   "codemirror_mode": {
    "name": "ipython",
    "version": 3
   },
   "file_extension": ".py",
   "mimetype": "text/x-python",
   "name": "python",
   "nbconvert_exporter": "python",
   "pygments_lexer": "ipython3",
   "version": "3.7.9"
  }
 },
 "nbformat": 4,
 "nbformat_minor": 4
}
