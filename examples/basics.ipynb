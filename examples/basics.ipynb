{
 "cells": [
  {
   "cell_type": "markdown",
   "metadata": {},
   "source": [
    "# Autocfg Basics\n",
    "\n",
    "This notebook will demonstrate the basic functionalities of autocfg"
   ]
  },
  {
   "cell_type": "code",
   "execution_count": 1,
   "metadata": {},
   "outputs": [],
   "source": [
    "from autocfg import dataclass, field  # drop-in replacement of dataclass decorator out of dataclasses"
   ]
  },
  {
   "cell_type": "markdown",
   "metadata": {},
   "source": [
    "### dataclass decorator\n",
    "\n",
    "The usage of dataclass decorator shouldn't be anything different than the native `dataclasses` introduced in python 3.7. In python 3.6 we use the backported `dataclasses` so it minimum requirement of `autocfg` package is python 3.6\n",
    "\n",
    "Let's create some random configurations you will use in an experiment."
   ]
  },
  {
   "cell_type": "code",
   "execution_count": 2,
   "metadata": {},
   "outputs": [],
   "source": [
    "from typing import Union\n",
    "# first is the common training config\n",
    "@dataclass\n",
    "class TrainConfig:\n",
    "  batch_size : int = 32\n",
    "  learning_rate : Union[float, int] = 1e-3\n",
    "  weight_decay : float = 1e-5"
   ]
  },
  {
   "cell_type": "markdown",
   "metadata": {},
   "source": [
    "followed by a nested config"
   ]
  },
  {
   "cell_type": "code",
   "execution_count": 3,
   "metadata": {},
   "outputs": [],
   "source": [
    "# supports nested config\n",
    "@dataclass\n",
    "class MyExp:\n",
    "  train : TrainConfig = TrainConfig() # or field(default_factory=TrainConfig)\n",
    "  num_class : int = 1000\n",
    "  depth : int = 50"
   ]
  },
  {
   "cell_type": "markdown",
   "metadata": {},
   "source": [
    "Note that usually a mutable object such as `TrainConfig` is not allowed in dataclass, but we have made it simpler to specify default value for nested config. A former `field(default_factory=TrainConfig)` is recommended."
   ]
  },
  {
   "cell_type": "markdown",
   "metadata": {},
   "source": [
    "### Initialize, and direct access"
   ]
  },
  {
   "cell_type": "code",
   "execution_count": 4,
   "metadata": {},
   "outputs": [
    {
     "name": "stdout",
     "output_type": "stream",
     "text": [
      "train: TrainConfig(batch_size=32, learning_rate=0.001, weight_decay=1e-05)\n",
      "train1: TrainConfig(batch_size=128, learning_rate=0.001, weight_decay=1e-05)\n"
     ]
    }
   ],
   "source": [
    "# we can initialize the plain configs as-is\n",
    "train = TrainConfig()\n",
    "train1 = TrainConfig(batch_size=128)\n",
    "print('train:', train)\n",
    "print('train1:', train1)"
   ]
  },
  {
   "cell_type": "code",
   "execution_count": 5,
   "metadata": {},
   "outputs": [
    {
     "name": "stdout",
     "output_type": "stream",
     "text": [
      "exp with default train: MyExp(train=TrainConfig(batch_size=32, learning_rate=0.001, weight_decay=1e-05), num_class=1000, depth=18)\n"
     ]
    }
   ],
   "source": [
    "# the exp config, a nested class\n",
    "exp = MyExp(depth=18)\n",
    "print('exp with default train:', exp)"
   ]
  },
  {
   "cell_type": "code",
   "execution_count": 6,
   "metadata": {},
   "outputs": [
    {
     "name": "stdout",
     "output_type": "stream",
     "text": [
      "dict: {'train': {'batch_size': 32, 'learning_rate': 0.001, 'weight_decay': 1e-05}, 'num_class': 1000, 'depth': 18}\n"
     ]
    }
   ],
   "source": [
    "# config can be viewed as normal dict\n",
    "print('dict:', exp.asdict())"
   ]
  },
  {
   "cell_type": "code",
   "execution_count": 7,
   "metadata": {},
   "outputs": [
    {
     "name": "stdout",
     "output_type": "stream",
     "text": [
      "updated exp: MyExp(train=TrainConfig(batch_size=32, learning_rate=1.5, weight_decay=1e-05), num_class=10, depth=18)\n"
     ]
    }
   ],
   "source": [
    "# To modify the values, attributes can be directly accessed\n",
    "exp.num_class = 10\n",
    "exp.train.learning_rate = 1.5\n",
    "tt = TrainConfig()\n",
    "tt.learning_rate = 1000\n",
    "print('updated exp:', exp)"
   ]
  },
  {
   "cell_type": "markdown",
   "metadata": {},
   "source": [
    "### Type checking\n",
    "\n",
    "The type validation is a built-in feature for each field, for example, an invalid `learning_rate` will triger `TypeError`"
   ]
  },
  {
   "cell_type": "code",
   "execution_count": 8,
   "metadata": {},
   "outputs": [
    {
     "name": "stdout",
     "output_type": "stream",
     "text": [
      "raised error: `<class '__main__.TrainConfig'>.learning_rate` requires typing.Union[float, int], given <class 'str'>\n"
     ]
    }
   ],
   "source": [
    "try:\n",
    "    invalid_train = TrainConfig(learning_rate='1.0')\n",
    "except TypeError as e:\n",
    "    print('raised error:', e)"
   ]
  },
  {
   "cell_type": "markdown",
   "metadata": {},
   "source": [
    "More importantly, `autocfg` also safe-guard the `setattr` behavior so you won't assign invalid values to fields"
   ]
  },
  {
   "cell_type": "code",
   "execution_count": 9,
   "metadata": {},
   "outputs": [
    {
     "name": "stdout",
     "output_type": "stream",
     "text": [
      "raised error: `<class '__main__.TrainConfig'>.batch_size` requires <class 'int'>, given <class 'float'>\n"
     ]
    }
   ],
   "source": [
    "invalid_train = TrainConfig(learning_rate=1.0)\n",
    "try:\n",
    "    invalid_train.batch_size = 0.1\n",
    "except TypeError as e:\n",
    "    print('raised error:', e)"
   ]
  },
  {
   "cell_type": "markdown",
   "metadata": {},
   "source": [
    "### Serialization\n",
    "\n",
    "`autocfg` prefers `yaml` as the human-readable format for serialization, which can be viewed and modified pretty effortlessly."
   ]
  },
  {
   "cell_type": "code",
   "execution_count": 10,
   "metadata": {},
   "outputs": [
    {
     "name": "stdout",
     "output_type": "stream",
     "text": [
      "# MyExp\r\n",
      "depth: 18\r\n",
      "num_class: 10\r\n",
      "train:\r\n",
      "  batch_size: 32\r\n",
      "  learning_rate: 1.5\r\n",
      "  weight_decay: 1.0e-05\r\n"
     ]
    }
   ],
   "source": [
    "# save to 'exp.yaml'\n",
    "exp.save('exp.yaml')\n",
    "!cat exp.yaml"
   ]
  },
  {
   "cell_type": "code",
   "execution_count": 11,
   "metadata": {},
   "outputs": [],
   "source": [
    "# directly load from file is also straight-forward\n",
    "exp1 = MyExp.load('exp.yaml')\n",
    "assert exp == exp1"
   ]
  },
  {
   "cell_type": "code",
   "execution_count": 12,
   "metadata": {},
   "outputs": [
    {
     "name": "stdout",
     "output_type": "stream",
     "text": [
      "MyExp(train=TrainConfig(batch_size=32, learning_rate=0.001, weight_decay=1e-05), num_class=1000, depth=1000)\n"
     ]
    }
   ],
   "source": [
    "# a python file-like object can be handy in case in-memory operation is preferred\n",
    "import io\n",
    "f = io.StringIO('depth: 1000')\n",
    "exp2 = MyExp.load(f)\n",
    "print(exp2)\n",
    "assert exp2.depth == 1000"
   ]
  },
  {
   "cell_type": "markdown",
   "metadata": {},
   "source": [
    "### Update config in-place\n",
    "Though configs can be updated by direct access and assignment, we also need a faster `update` method similar to nested dict"
   ]
  },
  {
   "cell_type": "code",
   "execution_count": 13,
   "metadata": {},
   "outputs": [
    {
     "name": "stdout",
     "output_type": "stream",
     "text": [
      "MyExp(train=TrainConfig(batch_size=32, learning_rate=1.5, weight_decay=1e-05), num_class=10, depth=18)\n"
     ]
    }
   ],
   "source": [
    "exp2.update(exp1)\n",
    "print(exp2)\n",
    "assert exp2 == exp1"
   ]
  },
  {
   "cell_type": "code",
   "execution_count": 14,
   "metadata": {},
   "outputs": [
    {
     "name": "stdout",
     "output_type": "stream",
     "text": [
      "MyExp(train=TrainConfig(batch_size=32, learning_rate=1.5, weight_decay=1e-05), num_class=10, depth=18)\n"
     ]
    }
   ],
   "source": [
    "# update support files, file-like objects where configs has been dumped\n",
    "exp2 = MyExp(num_class=200)\n",
    "exp2.update('exp.yaml')\n",
    "print(exp2)\n",
    "assert exp2 == exp"
   ]
  },
  {
   "cell_type": "code",
   "execution_count": 15,
   "metadata": {},
   "outputs": [
    {
     "name": "stdout",
     "output_type": "stream",
     "text": [
      "MyExp(train=TrainConfig(batch_size=32, learning_rate=1.0, weight_decay=1e-05), num_class=10, depth=18)\n"
     ]
    }
   ],
   "source": [
    "# update with a dict\n",
    "exp2.update({'num_class': 10, 'train': {'learning_rate': 1.0}})\n",
    "print(exp2)\n",
    "assert exp2.num_class == 10 and exp2.train.learning_rate == 1.0"
   ]
  },
  {
   "cell_type": "code",
   "execution_count": 16,
   "metadata": {},
   "outputs": [
    {
     "name": "stdout",
     "output_type": "stream",
     "text": [
      "only update exp2.train MyExp(train=TrainConfig(batch_size=32, learning_rate=1.5, weight_decay=1e-05), num_class=200, depth=50)\n"
     ]
    }
   ],
   "source": [
    "# update a subsection only, specified by `key=xxx` , e.g., `train` only\n",
    "exp2 = MyExp(num_class=200)\n",
    "exp2.update(exp, key='train')\n",
    "print('only update exp2.train', exp2)\n",
    "assert exp2.num_class == 200 and exp2.train.learning_rate == exp.train.learning_rate\n",
    "# supports multiple keys\n",
    "exp2.update(exp, key=('train', 'num_class'))"
   ]
  },
  {
   "cell_type": "code",
   "execution_count": 17,
   "metadata": {},
   "outputs": [
    {
     "name": "stdout",
     "output_type": "stream",
     "text": [
      "MyExp(train=TrainConfig(batch_size=32, learning_rate=0.001, weight_decay=1e-05), num_class=100, depth=100)\n",
      "MyExp(train=TrainConfig(batch_size=4, learning_rate=1.0, weight_decay=1e-05), num_class=100, depth=100)\n"
     ]
    }
   ],
   "source": [
    "# update with kwargs with key=value pairs\n",
    "exp2 = MyExp(num_class=200)\n",
    "exp2.update(num_class=100, depth=100)\n",
    "print(exp2)\n",
    "# useful in a nested config\n",
    "exp2.update(train={'batch_size': 4})\n",
    "# or\n",
    "exp2.train.update(batch_size=4, learning_rate=1.0)\n",
    "print(exp2)"
   ]
  },
  {
   "cell_type": "markdown",
   "metadata": {},
   "source": [
    "### Make copy or merge configs\n",
    "\n",
    "Making copies or merge configs to another object without modifying the original configuration. In such cases, you can use the built-in `copy` module or `merge` method "
   ]
  },
  {
   "cell_type": "code",
   "execution_count": 18,
   "metadata": {},
   "outputs": [
    {
     "name": "stdout",
     "output_type": "stream",
     "text": [
      "MyExp(train=TrainConfig(batch_size=32, learning_rate=0.001, weight_decay=1e-05), num_class=1000, depth=50) \n",
      "versus...\n",
      " MyExp(train=TrainConfig(batch_size=32, learning_rate=0.5, weight_decay=1e-05), num_class=1000, depth=50)\n"
     ]
    }
   ],
   "source": [
    "import copy\n",
    "orig_cfg = MyExp()\n",
    "new_cfg = copy.deepcopy(orig_cfg)\n",
    "new_cfg.train.learning_rate = 0.5\n",
    "print(orig_cfg, '\\nversus...\\n', new_cfg)"
   ]
  },
  {
   "cell_type": "code",
   "execution_count": 19,
   "metadata": {},
   "outputs": [
    {
     "name": "stdout",
     "output_type": "stream",
     "text": [
      "MyExp(train=TrainConfig(batch_size=32, learning_rate=0.001, weight_decay=1e-05), num_class=1000, depth=50) \n",
      "versus...\n",
      " MyExp(train=TrainConfig(batch_size=32, learning_rate=1.5, weight_decay=1e-05), num_class=10, depth=18)\n",
      "MyExp(train=TrainConfig(batch_size=32, learning_rate=1.5, weight_decay=1e-05), num_class=1000, depth=50)\n",
      "MyExp(train=TrainConfig(batch_size=4, learning_rate=1.0, weight_decay=1e-05), num_class=100, depth=100)\n"
     ]
    }
   ],
   "source": [
    "# merge a yaml file directly\n",
    "new_cfg = orig_cfg.merge('exp.yaml')\n",
    "print(orig_cfg, '\\nversus...\\n', new_cfg)\n",
    "# merge with a dict\n",
    "new_cfg = orig_cfg.merge({'train': {'learning_rate': 1.5}})\n",
    "print(new_cfg)\n",
    "# merge from another config object\n",
    "new_cfg = orig_cfg.merge(exp2)\n",
    "print(new_cfg)"
   ]
  },
  {
   "cell_type": "markdown",
   "metadata": {},
   "source": [
    "Anyway, using `copy` or `merge`, we can make the original config intact while quickly update the desired fields. In paticular, `merge` support all updating method we have shown with `update` function."
   ]
  },
  {
   "cell_type": "markdown",
   "metadata": {},
   "source": [
    "### Argparse integration\n",
    "\n",
    "It's always time consuming if you need to manually add a argparse parser to handle command line inputs, `autocfg` handles the issue out of the box, saving tons of efforts for you.\n",
    "\n",
    "Since jupyter notebook doesnot play with `sys.argv` well, we will use list inputs to simulate command line inputs."
   ]
  },
  {
   "cell_type": "code",
   "execution_count": 20,
   "metadata": {},
   "outputs": [
    {
     "name": "stdout",
     "output_type": "stream",
     "text": [
      "usage: MyExp's auto argument parser [-h] [--train.batch-size TRAIN.BATCH_SIZE]\n",
      "                                    [--train.learning-rate TRAIN.LEARNING_RATE]\n",
      "                                    [--train.weight-decay TRAIN.WEIGHT_DECAY]\n",
      "                                    [--num-class NUM_CLASS] [--depth DEPTH]\n",
      "\n",
      "optional arguments:\n",
      "  -h, --help            show this help message and exit\n",
      "  --train.batch-size TRAIN.BATCH_SIZE\n",
      "                        batch_size (default: 32)\n",
      "  --train.learning-rate TRAIN.LEARNING_RATE\n",
      "                        learning_rate (default: 0.001)\n",
      "  --train.weight-decay TRAIN.WEIGHT_DECAY\n",
      "                        weight_decay (default: 1e-05)\n",
      "  --num-class NUM_CLASS\n",
      "                        num_class (default: 1000)\n",
      "  --depth DEPTH         depth (default: 50)\n"
     ]
    }
   ],
   "source": [
    "# auto generated helper\n",
    "try:\n",
    "    new_exp = MyExp.parse_args(['-h'])\n",
    "except SystemExit as e:\n",
    "    pass"
   ]
  },
  {
   "cell_type": "markdown",
   "metadata": {},
   "source": [
    "The default values are also available in the console output"
   ]
  },
  {
   "cell_type": "code",
   "execution_count": 21,
   "metadata": {},
   "outputs": [
    {
     "name": "stdout",
     "output_type": "stream",
     "text": [
      "MyExp(train=TrainConfig(batch_size=32, learning_rate=0.001, weight_decay=1e-05), num_class=1000, depth=100)\n"
     ]
    }
   ],
   "source": [
    "# normal overriding\n",
    "new_exp = MyExp.parse_args(['--depth', '100'])\n",
    "print(new_exp)"
   ]
  },
  {
   "cell_type": "code",
   "execution_count": 22,
   "metadata": {},
   "outputs": [
    {
     "name": "stdout",
     "output_type": "stream",
     "text": [
      "MyExp(train=TrainConfig(batch_size=32, learning_rate=0.001, weight_decay=100.0), num_class=1000, depth=50)\n"
     ]
    }
   ],
   "source": [
    "# nested overriding\n",
    "new_exp = MyExp.parse_args(['--train.weight-decay', '100.0'])\n",
    "print(new_exp)"
   ]
  },
  {
   "cell_type": "markdown",
   "metadata": {},
   "source": [
    "### Diff configurations\n",
    "\n",
    "Knowing what's been modified is an important feature of configuration systems, `autocfg` provide a `diff` function to evaluate the changes"
   ]
  },
  {
   "cell_type": "code",
   "execution_count": 23,
   "metadata": {},
   "outputs": [
    {
     "name": "stdout",
     "output_type": "stream",
     "text": [
      "['root.depth           50 != 100',\n",
      " 'root.num_class       1000 != 100',\n",
      " 'root.train.batch_size 32 != 4',\n",
      " 'root.train.weight_decay 100.0 != 1e-05',\n",
      " 'root.train.learning_rate 0.001 != 1.0']\n"
     ]
    }
   ],
   "source": [
    "from pprint import pprint\n",
    "pprint(new_exp.diff(exp2))"
   ]
  },
  {
   "cell_type": "code",
   "execution_count": null,
   "metadata": {},
   "outputs": [],
   "source": []
  }
 ],
 "metadata": {
  "kernelspec": {
   "display_name": "Python 3",
   "language": "python",
   "name": "python3"
  },
  "language_info": {
   "codemirror_mode": {
    "name": "ipython",
    "version": 3
   },
   "file_extension": ".py",
   "mimetype": "text/x-python",
   "name": "python",
   "nbconvert_exporter": "python",
   "pygments_lexer": "ipython3",
   "version": "3.7.9"
  }
 },
 "nbformat": 4,
 "nbformat_minor": 4
}
