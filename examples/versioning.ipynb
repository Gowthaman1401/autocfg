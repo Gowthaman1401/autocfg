{
 "cells": [
  {
   "cell_type": "markdown",
   "metadata": {},
   "source": [
    "# Autocfg Version Control\n",
    "\n",
    "This notebook will explain the version control features of `autocfg` to ensure configurations can be managed properly in a long lasting project, with forward and backward compatibilities."
   ]
  },
  {
   "cell_type": "code",
   "execution_count": 1,
   "metadata": {},
   "outputs": [],
   "source": [
    "from autocfg import dataclass, field  # drop-in replacement of dataclass decorator out of dataclasses\n",
    "# this time we import a AnnotateField to help mark fields in dataclasses\n",
    "from autocfg import AnnotateField as AF"
   ]
  },
  {
   "cell_type": "markdown",
   "metadata": {},
   "source": [
    "### Adding version annatations\n",
    "\n",
    "Let's reuse the configuration classes in `basic.ipynb`, this time we add some version semantics to help marking fields with different purposes."
   ]
  },
  {
   "cell_type": "code",
   "execution_count": 2,
   "metadata": {},
   "outputs": [],
   "source": [
    "@dataclass(version='0.1')\n",
    "class TrainConfig:\n",
    "  batch_size : int = 32\n",
    "  learning_rate : float = 1e-3\n",
    "  lr : AF(float, deprecated='0.1') = 1e-3\n",
    "  weight_decay : AF(float, added='0.1') = 1e-5"
   ]
  },
  {
   "cell_type": "markdown",
   "metadata": {},
   "source": [
    "AF(AnnotateField) supports three optional markers, `added`, `deprecated`, and `deleted`, together with class-level version marker `version='0.1'`, it can provide useful validators and checkers to ensure config is valid and up to date."
   ]
  },
  {
   "cell_type": "code",
   "execution_count": 3,
   "metadata": {},
   "outputs": [],
   "source": [
    "cfg = TrainConfig()"
   ]
  },
  {
   "cell_type": "markdown",
   "metadata": {},
   "source": [
    "### Deprecated field\n",
    "\n",
    "A deprecated field works as-is except that accessing it will throw a `UserWarning` indicate that this field has been deprecated"
   ]
  },
  {
   "cell_type": "code",
   "execution_count": 4,
   "metadata": {},
   "outputs": [
    {
     "name": "stdout",
     "output_type": "stream",
     "text": [
      "lr: 0.001\n",
      "TrainConfig(batch_size=32, learning_rate=0.001, lr=0.001, weight_decay=1e-05)\n"
     ]
    },
    {
     "name": "stderr",
     "output_type": "stream",
     "text": [
      "/Users/zhiz/Dev/autocfg/autocfg/dataclasses.py:103: UserWarning: `<class '__main__.TrainConfig'>.lr` is deprecated in 0.1 and will be deleted in 999.0, current is 0.1\n",
      "  warnings.warn(msg)\n"
     ]
    }
   ],
   "source": [
    "print('lr:', cfg.lr)\n",
    "print(cfg)"
   ]
  },
  {
   "cell_type": "markdown",
   "metadata": {},
   "source": [
    "### Deleted field\n",
    "\n",
    "Deleted field is excluded in configs, if the code-level version marker is larger than the annotation, for example, a newer version of code which completely removes the use of `lr`"
   ]
  },
  {
   "cell_type": "code",
   "execution_count": 5,
   "metadata": {},
   "outputs": [
    {
     "name": "stdout",
     "output_type": "stream",
     "text": [
      "NewerTrainConfig(batch_size=32, learning_rate=0.001, weight_decay=1e-05)\n"
     ]
    }
   ],
   "source": [
    "@dataclass(version='0.3')\n",
    "class NewerTrainConfig:\n",
    "  batch_size : int = 32\n",
    "  learning_rate : float = 1e-3\n",
    "  lr : AF(float, deprecated='0.1', deleted='0.3') = 1e-3\n",
    "  weight_decay : AF(float, added='0.1') = 1e-5\n",
    "    \n",
    "new_cfg = NewerTrainConfig()\n",
    "print(new_cfg)"
   ]
  },
  {
   "cell_type": "markdown",
   "metadata": {},
   "source": [
    "It's perfectly fine and normal to instantiate the newer version config, except that the `lr` attribute disappears, `KeyError` will raise when you try to access it explicitly"
   ]
  },
  {
   "cell_type": "code",
   "execution_count": 6,
   "metadata": {},
   "outputs": [
    {
     "name": "stdout",
     "output_type": "stream",
     "text": [
      "\"`<class '__main__.NewerTrainConfig'>.lr` is deleted in 0.3 in <class '__main__.NewerTrainConfig'>, current is 0.3\"\n"
     ]
    }
   ],
   "source": [
    "try:\n",
    "    print(new_cfg.lr)\n",
    "except KeyError as e:\n",
    "    print(e)"
   ]
  },
  {
   "cell_type": "markdown",
   "metadata": {},
   "source": [
    "with such behavior, loading configuration files saved long time ago is no longer a issue even if some fields are not needed."
   ]
  },
  {
   "cell_type": "code",
   "execution_count": 7,
   "metadata": {},
   "outputs": [
    {
     "name": "stdout",
     "output_type": "stream",
     "text": [
      "# TrainConfig\n",
      "batch_size: 32\n",
      "learning_rate: 0.001\n",
      "lr: 0.001\n",
      "weight_decay: 1.0e-05\n",
      "cfg loaded in newer version:\n",
      " NewerTrainConfig(batch_size=32, learning_rate=0.001, weight_decay=1e-05)\n"
     ]
    }
   ],
   "source": [
    "cfg.save('old_cfg.yaml')\n",
    "!cat old_cfg.yaml\n",
    "new_cfg = NewerTrainConfig.load('old_cfg.yaml')\n",
    "print('cfg loaded in newer version:\\n', new_cfg)"
   ]
  },
  {
   "cell_type": "markdown",
   "metadata": {},
   "source": [
    "### Added field\n",
    "\n",
    "This is a experimental feature and is under development, `added` marker is only served as documentatary purposes."
   ]
  },
  {
   "cell_type": "markdown",
   "metadata": {},
   "source": [
    "## Conclusion\n",
    "\n",
    "To ensure we can track the changes of hyper-parameter fields, never delete fields in the configuration class, use `AnnotateField` instead.\n",
    "\n",
    "`autocfg` will ensure deprecated/deleted fields can be properly handled without extra effort."
   ]
  },
  {
   "cell_type": "code",
   "execution_count": null,
   "metadata": {},
   "outputs": [],
   "source": []
  }
 ],
 "metadata": {
  "kernelspec": {
   "display_name": "Python 3",
   "language": "python",
   "name": "python3"
  },
  "language_info": {
   "codemirror_mode": {
    "name": "ipython",
    "version": 3
   },
   "file_extension": ".py",
   "mimetype": "text/x-python",
   "name": "python",
   "nbconvert_exporter": "python",
   "pygments_lexer": "ipython3",
   "version": "3.7.9"
  }
 },
 "nbformat": 4,
 "nbformat_minor": 4
}
